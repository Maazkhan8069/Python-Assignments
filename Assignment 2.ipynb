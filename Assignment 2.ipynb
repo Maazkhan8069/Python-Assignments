{
 "cells": [
  {
   "cell_type": "raw",
   "id": "3a3c43e0",
   "metadata": {},
   "source": [
    "1.What are the two values of the Boolean data type? How do you write them?\n",
    "\n",
    "ans- TRUE and FALSE\n"
   ]
  },
  {
   "cell_type": "raw",
   "id": "b01f1a8f",
   "metadata": {},
   "source": [
    "2. What are the three different types of Boolean operators?\n",
    "\n",
    "ans- AND , OR , NOT"
   ]
  },
  {
   "cell_type": "raw",
   "id": "fcf15868",
   "metadata": {},
   "source": [
    "3. Make a list of each Boolean operator's truth tables (i.e. every possible combination of Boolean\n",
    "values for the operator and what it evaluate ).\n",
    "\n",
    "ans- \n",
    "TRUE and TRUE = TRUE \n",
    "TRUE and FALSE = FALSE\n",
    "FALSE and TRUE = FALSE\n",
    "FALSE and FALSE = FALSE\n",
    "TRUE or TRUE = TRUE \n",
    "TRUE or FALSE = TRUE\n",
    "FALSE or TRUE = TRUE\n",
    "FALSE or FALSE = FALSE\n",
    "not TRUE = FALSE\n",
    "not FALSE = TRUE\n",
    "\n"
   ]
  },
  {
   "cell_type": "raw",
   "id": "d56d085b",
   "metadata": {},
   "source": [
    "4. What are the values of the following expressions?\n",
    "ans- \n",
    "1. FALSE\n",
    "2. FALSE\n",
    "3. TRUE\n",
    "4. FALSE\n",
    "5. FALSE\n",
    "6. TRUE\n"
   ]
  },
  {
   "cell_type": "raw",
   "id": "b71666b8",
   "metadata": {},
   "source": [
    "5. What are the six comparison operators?\n",
    "\n",
    "ans- \n",
    "==, !=, <, >, <=, >=."
   ]
  },
  {
   "cell_type": "raw",
   "id": "aa2f2a49",
   "metadata": {},
   "source": [
    "6. How do you tell the difference between the equal to and assignment operators?Describe a\n",
    "condition and when you would use one.\n",
    "\n",
    "ans- \n",
    "While the assignment operator = stores a value in a variable, the equal to operator == compares two values and converts \n",
    "their comparison to a Boolean."
   ]
  },
  {
   "cell_type": "raw",
   "id": "21687529",
   "metadata": {},
   "source": [
    "7. Identify the three blocks in this code:\n",
    "\n",
    "ans- \n",
    "print('eggs')\n",
    "if spam > 5:\n",
    "    print('bacon')\n",
    "else:\n",
    "    print('ham')\n",
    "print('spam')"
   ]
  },
  {
   "cell_type": "code",
   "execution_count": null,
   "id": "132d8641",
   "metadata": {},
   "outputs": [],
   "source": [
    "8. Write code that prints Hello if 1 is stored in spam, prints Howdy if 2 is stored in spam, and prints\n",
    "Greetings! if anything else is stored in spam.\n",
    "\n",
    "spam = int(input())\n",
    "\n",
    "if spam == 1:\n",
    "    print(\"HELLO\")\n",
    "    \n",
    "elif spam == 2:\n",
    "    print(\"HOWDY\")\n",
    "    \n",
    "else :\n",
    "    print(\"GREETINGS!\")\n",
    "    \n"
   ]
  },
  {
   "cell_type": "code",
   "execution_count": null,
   "id": "9223d48c",
   "metadata": {},
   "outputs": [],
   "source": []
  }
 ],
 "metadata": {
  "kernelspec": {
   "display_name": "Python 3 (ipykernel)",
   "language": "python",
   "name": "python3"
  },
  "language_info": {
   "codemirror_mode": {
    "name": "ipython",
    "version": 3
   },
   "file_extension": ".py",
   "mimetype": "text/x-python",
   "name": "python",
   "nbconvert_exporter": "python",
   "pygments_lexer": "ipython3",
   "version": "3.9.12"
  }
 },
 "nbformat": 4,
 "nbformat_minor": 5
}
